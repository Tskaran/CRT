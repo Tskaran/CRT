{
 "cells": [
  {
   "cell_type": "code",
   "execution_count": null,
   "metadata": {},
   "outputs": [],
   "source": [
    "# find out weather a number is even or odd\n",
    "a=21\n",
    "if a%2==0:\n",
    "    print(\"number is even\")\n",
    "\n",
    "if a%2!=0:\n",
    "    print(\"number is odd\")\n",
    "    "
   ]
  },
  {
   "cell_type": "code",
   "execution_count": null,
   "metadata": {},
   "outputs": [],
   "source": [
    "#write a code to find out laragest number between 3 numbers \n",
    "#print the numbers \n",
    "#code \n",
    "a=10\n",
    "b=20\n",
    "c=30\n",
    "if a>b and a>c:\n",
    "    print(a)\n",
    "\n",
    "if b>a and b>c:\n",
    "    print(b)\n",
    "    \n",
    "if c>a and c>b:\n",
    "    print(c)\n"
   ]
  }
 ],
 "metadata": {
  "kernelspec": {
   "display_name": "Python 3",
   "language": "python",
   "name": "python3"
  },
  "language_info": {
   "name": "python",
   "version": "3.13.1"
  }
 },
 "nbformat": 4,
 "nbformat_minor": 2
}
